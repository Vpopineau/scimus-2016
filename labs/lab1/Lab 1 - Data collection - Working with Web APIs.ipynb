{
 "cells": [
  {
   "cell_type": "markdown",
   "metadata": {
    "collapsed": true
   },
   "source": [
    "# Lab 1 - Data Collection - Querying Web APIs"
   ]
  },
  {
   "cell_type": "code",
   "execution_count": null,
   "metadata": {
    "code_folding": [],
    "collapsed": false,
    "hide_input": false
   },
   "outputs": [],
   "source": [
    "# General dependencies\n",
    "import sys\n",
    "import json\n",
    "from IPython.core.display import HTML\n",
    "from IPython.display import display, IFrame\n",
    "from collections import defaultdict\n",
    "%matplotlib inline"
   ]
  },
  {
   "cell_type": "markdown",
   "metadata": {},
   "source": [
    "## A real life example: Spotify API"
   ]
  },
  {
   "cell_type": "markdown",
   "metadata": {},
   "source": [
    "In this first part, we'll be looking at *The Beatles* and query the [Spotify API](https://developer.spotify.com/web-api/) for various details about this band.\n",
    "\n",
    "The Spotify ID of *The Beatles* is:\n",
    "\n",
    "```\n",
    "spotify:artist:3WrFJ7ztbogyGnTHbHJFl2\n",
    "```\n",
    "\n",
    "As you can read on the [Artist's API documentation](https://developer.spotify.com/web-api/get-artist/), the following URL allows to retrieve some information about the artist:\n",
    "\n",
    "```\n",
    "https://api.spotify.com/v1/artists/3WrFJ7ztbogyGnTHbHJFl2\n",
    "```\n",
    "\n",
    "If we hit this URL directly in a browser https://api.spotify.com/v1/artists/3WrFJ7ztbogyGnTHbHJFl2, we are given back a set of information about the artist.\n",
    "\n",
    "```\n",
    "{\n",
    "    external_urls: {\n",
    "        spotify: \"https://open.spotify.com/artist/3WrFJ7ztbogyGnTHbHJFl2\"\n",
    "    },\n",
    "    followers: {\n",
    "        href: null,\n",
    "        total: 2271088\n",
    "    },\n",
    "    genres: [ ],\n",
    "    href: \"https://api.spotify.com/v1/artists/3WrFJ7ztbogyGnTHbHJFl2\",\n",
    "    id: \"3WrFJ7ztbogyGnTHbHJFl2\",\n",
    "    images: [\n",
    "        {\n",
    "            height: 1000,\n",
    "            url: \"https://i.scdn.co/image/934c57df9fbdbbaa5e93b55994a4cb9571fd2085\",\n",
    "            width: 1000\n",
    "        },\n",
    "        {\n",
    "            height: 640,\n",
    "            url: \"https://i.scdn.co/image/5f70d98d3e4616a02a3afe2aa9a840b9157b92a1\",\n",
    "            width: 640\n",
    "        },\n",
    "        {\n",
    "            height: 200,\n",
    "            url: \"https://i.scdn.co/image/7fe1a693adc52e274962f1c61d76ca9ccc62c191\",\n",
    "            width: 200\n",
    "        },\n",
    "        {\n",
    "            height: 64,\n",
    "            url: \"https://i.scdn.co/image/857b1ce5b1b372b873b0a8bdb3ff8023b6c61d39\",\n",
    "            width: 64\n",
    "        }\n",
    "    ],\n",
    "    name: \"The Beatles\",\n",
    "    popularity: 85,\n",
    "    type: \"artist\",\n",
    "    uri: \"spotify:artist:3WrFJ7ztbogyGnTHbHJFl2\"\n",
    "}\n",
    "```\n",
    "\n",
    "This is a [JSON](https://en.wikipedia.org/wiki/JSON) object, which structure is documented at https://developer.spotify.com/web-api/object-model/#artist-object-full\n",
    "\n",
    "The list of API endpoints is available at https://developer.spotify.com/web-api/endpoint-reference/."
   ]
  },
  {
   "cell_type": "markdown",
   "metadata": {},
   "source": [
    "### Interacting with APIs in Python\n",
    "In order to programmatically query the Spotify API, we'll be using the `requests` module that easily allow to interact with HTTP services.\n",
    "\n",
    "You can consult the  `requests`'s [quickstart](http://docs.python-requests.org/en/master/user/quickstart/#quickstart) documentation for some more details.\n",
    "\n",
    "The following statement allows us to import the module:"
   ]
  },
  {
   "cell_type": "code",
   "execution_count": null,
   "metadata": {
    "collapsed": true
   },
   "outputs": [],
   "source": [
    "import requests"
   ]
  },
  {
   "cell_type": "markdown",
   "metadata": {},
   "source": [
    "### First requests"
   ]
  },
  {
   "cell_type": "markdown",
   "metadata": {},
   "source": [
    "Once the module is imported, we'll first fetch details about the band:\n",
    "\n",
    "```\n",
    "r = requests.get('https://api.spotify.com/v1/artists/3WrFJ7ztbogyGnTHbHJFl2')\n",
    "```\n",
    "Some more details about this request:\n",
    "* We are performing a `GET` request (`.get(...)`), asking the server to retrieve us some information\n",
    "* `https://api.spotify.com` is the URL of the Spotify API\n",
    "* `/v1/artists` is the API endpoint to retrieve information about artists\n",
    "* `3WrFJ7ztbogyGnTHbHJFl2` is the Spotify artists ID for *The Beatles*\n",
    "\n",
    "This endpoint is fully documented on Spotify at https://developer.spotify.com/web-api/get-artist/"
   ]
  },
  {
   "cell_type": "code",
   "execution_count": null,
   "metadata": {
    "collapsed": false
   },
   "outputs": [],
   "source": [
    "r = requests.get('https://api.spotify.com/v1/artists/3WrFJ7ztbogyGnTHbHJFl2')"
   ]
  },
  {
   "cell_type": "markdown",
   "metadata": {},
   "source": [
    "The response returned is an object of type `requests.models.Response`"
   ]
  },
  {
   "cell_type": "code",
   "execution_count": null,
   "metadata": {
    "collapsed": false
   },
   "outputs": [],
   "source": [
    "type(r)"
   ]
  },
  {
   "cell_type": "markdown",
   "metadata": {},
   "source": [
    "The documentation can be fetched at http://docs.python-requests.org/en/latest/api/#requests.Response or also inline in this notebook:"
   ]
  },
  {
   "cell_type": "code",
   "execution_count": null,
   "metadata": {
    "collapsed": false
   },
   "outputs": [],
   "source": [
    "help(r)"
   ]
  },
  {
   "cell_type": "markdown",
   "metadata": {},
   "source": [
    "### HTTP Status & Errors\n",
    "As you may see, one of the attribute is `status_code` and can be used to test if the query was succesfull:"
   ]
  },
  {
   "cell_type": "code",
   "execution_count": null,
   "metadata": {
    "collapsed": false
   },
   "outputs": [],
   "source": [
    "print('Status code:', r.status_code)"
   ]
  },
  {
   "cell_type": "markdown",
   "metadata": {},
   "source": [
    "You can consult the list of HTTP status code at http://www.w3.org/Protocols/rfc2616/rfc2616-sec10.html for more details.\n",
    "\n",
    "Alternatively, a Python exception can be raised if the status code is not a succesfull one:"
   ]
  },
  {
   "cell_type": "code",
   "execution_count": null,
   "metadata": {
    "collapsed": true
   },
   "outputs": [],
   "source": [
    "r.raise_for_status() # does nothing since 200 is an OK"
   ]
  },
  {
   "cell_type": "markdown",
   "metadata": {},
   "source": [
    "For an unknown artist, you should get a 404 error, which is the standar HTTP error code for a resource that can not be found by the server. The content of the response contains a more detailed message about the error."
   ]
  },
  {
   "cell_type": "code",
   "execution_count": null,
   "metadata": {
    "collapsed": false
   },
   "outputs": [],
   "source": [
    "r1 = requests.get('https://api.spotify.com/v1/artists/XXrFJ7ztbogyGnTHbHJFXX')\n",
    "print('Status code:', r1.status_code)\n",
    "print('Error content:\\n', r1.text)\n",
    "r1.raise_for_status()"
   ]
  },
  {
   "cell_type": "markdown",
   "metadata": {},
   "source": [
    "### Request content\n",
    "Let's come back to the original reply of `r` which contains the result of the API call.\n",
    "\n",
    "The raw response can be retrieved with the `text` attribute:"
   ]
  },
  {
   "cell_type": "code",
   "execution_count": null,
   "metadata": {
    "collapsed": false
   },
   "outputs": [],
   "source": [
    "print(r.text)"
   ]
  },
  {
   "cell_type": "markdown",
   "metadata": {},
   "source": [
    "This is a JSON object which can be transformed into a native Python dictionary with the `json()` method:"
   ]
  },
  {
   "cell_type": "code",
   "execution_count": null,
   "metadata": {
    "collapsed": true
   },
   "outputs": [],
   "source": [
    "data = r.json()"
   ]
  },
  {
   "cell_type": "markdown",
   "metadata": {},
   "source": [
    "The `data` object contains all the properties and is a standard python dictionary:"
   ]
  },
  {
   "cell_type": "code",
   "execution_count": null,
   "metadata": {
    "collapsed": false
   },
   "outputs": [],
   "source": [
    "print('Artist ID:', data['id'])\n",
    "print('Artist ID:', data['uri'])\n",
    "print('Artist name:', data['name'])\n",
    "\n",
    "print('Artist properties:')\n",
    "for key in data:\n",
    "    print('\\tkey=[%s] value=[%s]' % (key, data[key]))"
   ]
  },
  {
   "cell_type": "markdown",
   "metadata": {},
   "source": [
    "### Some Jupyter goodies\n",
    "We can also embed HTML code in this notebook."
   ]
  },
  {
   "cell_type": "code",
   "execution_count": null,
   "metadata": {
    "collapsed": false
   },
   "outputs": [],
   "source": [
    "display(HTML(\"\"\"<img src=\"%s\"></img>\"\"\" % data['images'][-1]['url']))"
   ]
  },
  {
   "cell_type": "markdown",
   "metadata": {},
   "source": [
    "or an iframe:"
   ]
  },
  {
   "cell_type": "code",
   "execution_count": null,
   "metadata": {
    "collapsed": false
   },
   "outputs": [],
   "source": [
    "# Display the result of an API call in an iframe\n",
    "IFrame(\"https://api.spotify.com/v1/search?q=artist:beatles&type=track&market=FR&limit=50\",\n",
    "       width=600, height=200)"
   ]
  },
  {
   "cell_type": "markdown",
   "metadata": {},
   "source": [
    "The iframe will be usefull to grab a preview of a song and play it in notebook."
   ]
  },
  {
   "cell_type": "code",
   "execution_count": null,
   "metadata": {
    "collapsed": false
   },
   "outputs": [],
   "source": [
    "IFrame(\"https://p.scdn.co/mp3-preview/f7913ebb647d47835c34fa4db7e889c8a87c6d10\",\n",
    "       width=300, height=50)"
   ]
  },
  {
   "cell_type": "markdown",
   "metadata": {},
   "source": [
    "## Exercices"
   ]
  },
  {
   "cell_type": "markdown",
   "metadata": {},
   "source": [
    "### Exercice 1\n",
    "\n",
    "`568ZhdwyaiCyOGJRtNYhWf` is the Spotify Artist ID for *Deep Purple*\n",
    "\n",
    "- Create a function to retrieve and print the following information from Spotify:\n",
    " - Name of the artist\n",
    " - Popularity\n",
    " - Number of followers\n",
    " - All images of width lower than 200\n",
    "- Apply this function to *Deep Purple* and *The Beatles*\n",
    "- Test your code with other artists and invalid IDs (randomly change characters or change the length of the string). Which HTTP error codes do you have to deal with?\n",
    "\n",
    "If needed, consult https://developer.spotify.com/web-api/get-artist/ to get the properties return in the JSON object"
   ]
  },
  {
   "cell_type": "code",
   "execution_count": null,
   "metadata": {
    "code_folding": [],
    "collapsed": true
   },
   "outputs": [],
   "source": [
    "# Your code / answers here"
   ]
  },
  {
   "cell_type": "markdown",
   "metadata": {},
   "source": [
    "### Exercice 2"
   ]
  },
  {
   "cell_type": "markdown",
   "metadata": {},
   "source": [
    "iTunes has also an API documented at https://affiliate.itunes.apple.com/resources/documentation/itunes-store-web-service-search-api\n",
    "\n",
    "`135532` is the iTunes artist ID of *Deep Purple*\n",
    "\n",
    "* Query the iTunes Search API to retrieve details about Deep Purple\n",
    "* Print all fields present in the reply\n"
   ]
  },
  {
   "cell_type": "code",
   "execution_count": null,
   "metadata": {
    "collapsed": true
   },
   "outputs": [],
   "source": [
    "# Your code / answers here"
   ]
  },
  {
   "cell_type": "markdown",
   "metadata": {},
   "source": [
    "### Exercice 3\n",
    "\n",
    "Given a Spotify artist ID, we can retrieve the list of albums available for this artist.\n",
    "\n",
    "This new API endpoint is documented at: https://developer.spotify.com/web-api/get-artists-albums/\n",
    "\n",
    "For *The Beatles*:\n",
    "* retrieve the list of all albums available in France\n",
    "* store it into a python list for later use\n",
    "* print the first 10 albums ordered by release date (ascending)\n",
    "* print the name of the albums alongside the smallest image associated\n",
    "\n",
    "*Note: The endpoint implements *paging*, pay attention to the `offset` and `limit` parameters, you may need to query the API many time to fetch all albums.*"
   ]
  },
  {
   "cell_type": "code",
   "execution_count": null,
   "metadata": {
    "collapsed": true,
    "hide_input": false
   },
   "outputs": [],
   "source": [
    "# your code / answers here"
   ]
  },
  {
   "cell_type": "markdown",
   "metadata": {},
   "source": [
    "### Exercice 4\n",
    "\n",
    "Using the Spotify [Search API](https://developer.spotify.com/web-api/search-item/):\n",
    "\n",
    "* Retrieve all tracks having the following properties:\n",
    " * *market*: France\n",
    " * *artist name*: contains the string \"*marley*\"\n",
    "* Print how many tracks were retrieved\n",
    "* Find the 10 most popular tracks and print\n",
    " * The artist's name and his Spotify ID\n",
    " * The name of the track\n",
    " * The popularity of the track\n",
    " * An image (if one is associated with the track)\n",
    "* Identify and print all the distinct artists for the retrieved tracks with their respective count of tracks, ordered by count of tracks"
   ]
  },
  {
   "cell_type": "code",
   "execution_count": null,
   "metadata": {
    "collapsed": true
   },
   "outputs": [],
   "source": [
    "# your code / answers here"
   ]
  }
 ],
 "metadata": {
  "kernelspec": {
   "display_name": "Python 3",
   "language": "python",
   "name": "python3"
  },
  "language_info": {
   "codemirror_mode": {
    "name": "ipython",
    "version": 3
   },
   "file_extension": ".py",
   "mimetype": "text/x-python",
   "name": "python",
   "nbconvert_exporter": "python",
   "pygments_lexer": "ipython3",
   "version": "3.5.2"
  },
  "nav_menu": {},
  "toc": {
   "navigate_menu": true,
   "number_sections": true,
   "sideBar": true,
   "threshold": 6,
   "toc_cell": false,
   "toc_section_display": "block",
   "toc_window_display": true
  }
 },
 "nbformat": 4,
 "nbformat_minor": 0
}
